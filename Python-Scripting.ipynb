{
 "cells": [
  {
   "cell_type": "markdown",
   "metadata": {},
   "source": [
    "# Python Scripting for NetCDF Files"
   ]
  },
  {
   "cell_type": "markdown",
   "metadata": {},
   "source": [
    "## Importing Packages"
   ]
  },
  {
   "cell_type": "code",
   "execution_count": 1,
   "metadata": {},
   "outputs": [],
   "source": [
    "#!/usr/bin/env python3\n",
    "\n",
    "import netCDF4 as nf # reads in nc file\n",
    "import os            # allows access to OS\n",
    "import csv           # import and manage csv files \n",
    "import numpy as np   # let's us deal with arrays \n",
    "import pandas as pd  # use of data in dataframe format \n",
    "import scipy\n",
    "import xarray as xr       # deals with binary data as arrays \n",
    "from mpl_toolkits.basemap import Basemap\n",
    "import matplotlib.pyplot as plt  # let's us plot \n",
    "from netCDF4 import Dataset      # let's us read the file \n",
    "%matplotlib inline\n",
    "\n",
    "# importing packages to format time steps into dates \n",
    "import datetime as dt\n",
    "from netCDF4 import Dataset, date2index, num2date, date2num"
   ]
  },
  {
   "cell_type": "markdown",
   "metadata": {},
   "source": [
    "## Reading in files and assigning them to variables"
   ]
  },
  {
   "cell_type": "code",
   "execution_count": 2,
   "metadata": {},
   "outputs": [],
   "source": [
    "tmp_data = nf.Dataset('air.mon.mean__M-O_2002-2011.nc')\n",
    "sea_data = nf.Dataset('envisat_SIT_fb_snow-AMSR_sh_2002_2011_ease2_w50000.nc')"
   ]
  },
  {
   "cell_type": "code",
   "execution_count": null,
   "metadata": {},
   "outputs": [],
   "source": []
  },
  {
   "cell_type": "code",
   "execution_count": 3,
   "metadata": {},
   "outputs": [
    {
     "name": "stdout",
     "output_type": "stream",
     "text": [
      "<class 'odict_keys'>\n",
      "('time', <class 'netCDF4._netCDF4.Dimension'> (unlimited): name = 'time', size = 60\n",
      ")\n",
      "('lon', <class 'netCDF4._netCDF4.Dimension'>: name = 'lon', size = 144\n",
      ")\n",
      "('lat', <class 'netCDF4._netCDF4.Dimension'>: name = 'lat', size = 73\n",
      ")\n",
      "('level', <class 'netCDF4._netCDF4.Dimension'>: name = 'level', size = 17\n",
      ")\n"
     ]
    }
   ],
   "source": [
    "# Printing the keys and items for temperature dataset\n",
    "print(type(tmp_data.dimensions.keys()))\n",
    "for d in tmp_data.dimensions.items():\n",
    "    print(d)"
   ]
  },
  {
   "cell_type": "code",
   "execution_count": 4,
   "metadata": {},
   "outputs": [
    {
     "name": "stdout",
     "output_type": "stream",
     "text": [
      "<class 'odict_keys'>\n",
      "('time', <class 'netCDF4._netCDF4.Dimension'> (unlimited): name = 'time', size = 55\n",
      ")\n",
      "('time_bounds', <class 'netCDF4._netCDF4.Dimension'>: name = 'time_bounds', size = 2\n",
      ")\n",
      "('u', <class 'netCDF4._netCDF4.Dimension'>: name = 'u', size = 850\n",
      ")\n",
      "('v', <class 'netCDF4._netCDF4.Dimension'>: name = 'v', size = 850\n",
      ")\n"
     ]
    }
   ],
   "source": [
    "# Printing the keys and items for SIT dataset\n",
    "print(type(sea_data.dimensions.keys()))\n",
    "for d in sea_data.dimensions.items():\n",
    "    print(d)"
   ]
  },
  {
   "cell_type": "code",
   "execution_count": 5,
   "metadata": {},
   "outputs": [],
   "source": [
    "tmp_var = tmp_data.variables # reading in the variables for surface air temperature"
   ]
  },
  {
   "cell_type": "code",
   "execution_count": 6,
   "metadata": {},
   "outputs": [],
   "source": [
    "# assinging the variables for Temperature\n",
    "lon_t = tmp_var[\"lon\"][:]\n",
    "lat_t = tmp_var[\"lat\"][:]\n",
    "level = tmp_var[\"level\"][:]\n",
    "air = tmp_var[\"air\"][:]\n",
    "tmp_time = tmp_var[\"time\"]\n",
    "\n",
    "#lon_t, lat_t = np.meshgrid(lon_t, lat_t)"
   ]
  },
  {
   "cell_type": "code",
   "execution_count": 7,
   "metadata": {},
   "outputs": [],
   "source": [
    "sea_var = sea_data.variables # reading in the variables for Sea Ice Thickness "
   ]
  },
  {
   "cell_type": "code",
   "execution_count": 8,
   "metadata": {},
   "outputs": [],
   "source": [
    "# assinging the variables for SIT\n",
    "lon_sit = sea_var[\"longitude\"]\n",
    "lat_sit = sea_var[\"latitude\"]\n",
    "SIT = sea_var[\"SIT\"]\n",
    "SIT_time= sea_var[\"time\"]"
   ]
  },
  {
   "cell_type": "code",
   "execution_count": 9,
   "metadata": {},
   "outputs": [
    {
     "data": {
      "text/plain": [
       "('time', 'u', 'v')"
      ]
     },
     "execution_count": 9,
     "metadata": {},
     "output_type": "execute_result"
    }
   ],
   "source": [
    "SIT.dimensions  # here there are 3 dimensions for Sea Ice Thickness: Time, Latitude, and Longitude"
   ]
  },
  {
   "cell_type": "code",
   "execution_count": 10,
   "metadata": {},
   "outputs": [
    {
     "data": {
      "text/plain": [
       "<function MaskedArray.dump>"
      ]
     },
     "execution_count": 10,
     "metadata": {},
     "output_type": "execute_result"
    }
   ],
   "source": [
    "air.dump  # here there are 4 dimensions for surface air temperature: Time, Level, Latitude, and Longitude, but have made it into a masked array"
   ]
  },
  {
   "cell_type": "markdown",
   "metadata": {},
   "source": [
    "## Cleaning and Formating time, lat, and lon "
   ]
  },
  {
   "cell_type": "markdown",
   "metadata": {},
   "source": [
    "### 1. Format the lat and lon for the Surface Temperature  dataset"
   ]
  },
  {
   "cell_type": "code",
   "execution_count": 50,
   "metadata": {
    "scrolled": true
   },
   "outputs": [
    {
     "name": "stdout",
     "output_type": "stream",
     "text": [
      "longitudes =\n",
      "[-180.  -177.5 -175.  -172.5 -170.  -167.5 -165.  -162.5 -160.  -157.5\n",
      " -155.  -152.5 -150.  -147.5 -145.  -142.5 -140.  -137.5 -135.  -132.5\n",
      " -130.  -127.5 -125.  -122.5 -120.  -117.5 -115.  -112.5 -110.  -107.5\n",
      " -105.  -102.5 -100.   -97.5  -95.   -92.5  -90.   -87.5  -85.   -82.5\n",
      "  -80.   -77.5  -75.   -72.5  -70.   -67.5  -65.   -62.5  -60.   -57.5\n",
      "  -55.   -52.5  -50.   -47.5  -45.   -42.5  -40.   -37.5  -35.   -32.5\n",
      "  -30.   -27.5  -25.   -22.5  -20.   -17.5  -15.   -12.5  -10.    -7.5\n",
      "   -5.    -2.5    0.     2.5    5.     7.5   10.    12.5   15.    17.5\n",
      "   20.    22.5   25.    27.5   30.    32.5   35.    37.5   40.    42.5\n",
      "   45.    47.5   50.    52.5   55.    57.5   60.    62.5   65.    67.5\n",
      "   70.    72.5   75.    77.5   80.    82.5   85.    87.5   90.    92.5\n",
      "   95.    97.5  100.   102.5  105.   107.5  110.   112.5  115.   117.5\n",
      "  120.   122.5  125.   127.5  130.   132.5  135.   137.5  140.   142.5\n",
      "  145.   147.5  150.   152.5  155.   157.5  160.   162.5  165.   167.5\n",
      "  170.   172.5  175.   177.5  180. ]\n",
      "latitudes =\n",
      "[-90.  -87.5 -85.  -82.5 -80.  -77.5 -75.  -72.5 -70.  -67.5 -65.  -62.5\n",
      " -60.  -57.5 -55.  -52.5 -50.  -47.5 -45.  -42.5 -40.  -37.5 -35.  -32.5\n",
      " -30.  -27.5 -25.  -22.5 -20.  -17.5 -15.  -12.5 -10.   -7.5  -5.   -2.5\n",
      "   0.    2.5   5.    7.5  10.   12.5  15.   17.5  20.   22.5  25.   27.5\n",
      "  30.   32.5  35.   37.5  40.   42.5  45.   47.5  50.   52.5  55.   57.5\n",
      "  60.   62.5  65.   67.5  70.   72.5  75.   77.5  80.   82.5  85.   87.5\n",
      "  90. ]\n"
     ]
    }
   ],
   "source": [
    "lat_t =  np.arange(-90,91,2.5)\n",
    "lon_t =  np.arange(-180,181,2.5)\n",
    "\n",
    "print(\"longitudes =\\n{}\".format(lon_t[:]))\n",
    "\n",
    "print(\"latitudes =\\n{}\".format(lat_t[:]))"
   ]
  },
  {
   "cell_type": "markdown",
   "metadata": {},
   "source": [
    "### 2. Format the time for surface temperature"
   ]
  },
  {
   "cell_type": "code",
   "execution_count": 51,
   "metadata": {},
   "outputs": [
    {
     "name": "stdout",
     "output_type": "stream",
     "text": [
      "0\n",
      "59\n"
     ]
    }
   ],
   "source": [
    "time_start = date2index(dt.datetime(2002, 1, 1), tmp_time, select=\"nearest\")\n",
    "time_end = date2index(dt.datetime(2011, 12, 31), tmp_time, select=\"nearest\")\n",
    "\n",
    "print(time_start)\n",
    "print(time_end)"
   ]
  },
  {
   "cell_type": "code",
   "execution_count": 52,
   "metadata": {},
   "outputs": [
    {
     "name": "stdout",
     "output_type": "stream",
     "text": [
      "2011-10-01 00:00:00\n"
     ]
    }
   ],
   "source": [
    "print(num2date(tmp_time[time_end], units=tmp_time.units, calendar=tmp_time.calendar))"
   ]
  },
  {
   "cell_type": "code",
   "execution_count": 53,
   "metadata": {},
   "outputs": [],
   "source": [
    "dates_T=num2date(tmp_time[:],tmp_time.units)\n",
    "time_T=([date.strftime('%Y-%m-%d') for date in dates_T[:]])"
   ]
  },
  {
   "cell_type": "markdown",
   "metadata": {},
   "source": [
    "### In order to better handle the time-steps, we convert the time into a dataframe with Pandas \n"
   ]
  },
  {
   "cell_type": "code",
   "execution_count": 54,
   "metadata": {},
   "outputs": [
    {
     "name": "stdout",
     "output_type": "stream",
     "text": [
      "DatetimeIndex(['2002-05-01', '2002-06-01', '2002-07-01', '2002-08-01',\n",
      "               '2002-09-01', '2002-10-01', '2003-05-01', '2003-06-01',\n",
      "               '2003-07-01', '2003-08-01', '2003-09-01', '2003-10-01',\n",
      "               '2004-05-01', '2004-06-01', '2004-07-01', '2004-08-01',\n",
      "               '2004-09-01', '2004-10-01', '2005-05-01', '2005-06-01',\n",
      "               '2005-07-01', '2005-08-01', '2005-09-01', '2005-10-01',\n",
      "               '2006-05-01', '2006-06-01', '2006-07-01', '2006-08-01',\n",
      "               '2006-09-01', '2006-10-01', '2007-05-01', '2007-06-01',\n",
      "               '2007-07-01', '2007-08-01', '2007-09-01', '2007-10-01',\n",
      "               '2008-05-01', '2008-06-01', '2008-07-01', '2008-08-01',\n",
      "               '2008-09-01', '2008-10-01', '2009-05-01', '2009-06-01',\n",
      "               '2009-07-01', '2009-08-01', '2009-09-01', '2009-10-01',\n",
      "               '2010-05-01', '2010-06-01', '2010-07-01', '2010-08-01',\n",
      "               '2010-09-01', '2010-10-01', '2011-05-01', '2011-06-01',\n",
      "               '2011-07-01', '2011-08-01', '2011-09-01', '2011-10-01'],\n",
      "              dtype='datetime64[ns]', freq=None)\n"
     ]
    }
   ],
   "source": [
    "dates_pd = pd.to_datetime(time_T)\n",
    "print(dates_pd)"
   ]
  },
  {
   "cell_type": "code",
   "execution_count": 55,
   "metadata": {},
   "outputs": [
    {
     "data": {
      "text/plain": [
       "PeriodIndex(['2002-05', '2002-06', '2002-07', '2002-08', '2002-09', '2002-10',\n",
       "             '2003-05', '2003-06', '2003-07', '2003-08', '2003-09', '2003-10',\n",
       "             '2004-05', '2004-06', '2004-07', '2004-08', '2004-09', '2004-10',\n",
       "             '2005-05', '2005-06', '2005-07', '2005-08', '2005-09', '2005-10',\n",
       "             '2006-05', '2006-06', '2006-07', '2006-08', '2006-09', '2006-10',\n",
       "             '2007-05', '2007-06', '2007-07', '2007-08', '2007-09', '2007-10',\n",
       "             '2008-05', '2008-06', '2008-07', '2008-08', '2008-09', '2008-10',\n",
       "             '2009-05', '2009-06', '2009-07', '2009-08', '2009-09', '2009-10',\n",
       "             '2010-05', '2010-06', '2010-07', '2010-08', '2010-09', '2010-10',\n",
       "             '2011-05', '2011-06', '2011-07', '2011-08', '2011-09', '2011-10'],\n",
       "            dtype='period[M]', freq='M')"
      ]
     },
     "execution_count": 55,
     "metadata": {},
     "output_type": "execute_result"
    }
   ],
   "source": [
    "# using the periods give certain periods, here we are getting the period of time for Temp, with months \n",
    "periods = dates_pd.to_period(freq='M')\n",
    "periods"
   ]
  },
  {
   "cell_type": "markdown",
   "metadata": {},
   "source": [
    "### 1. Format the lat and lon for the surface SIT dataset"
   ]
  },
  {
   "cell_type": "code",
   "execution_count": 56,
   "metadata": {},
   "outputs": [],
   "source": [
    "#lat_sit =  np.arange(-90,91,2.5)\n",
    "#lon_sit =  np.arange(-180,181,2.5)\n",
    "\n",
    "#print(\"longitudes =\\n{}\".format(lon_t[:]))\n",
    "\n",
    "#print(\"latitudes =\\n{}\".format(lat_t[:]))"
   ]
  },
  {
   "cell_type": "markdown",
   "metadata": {},
   "source": [
    "### 2. Format the time for surface temperature "
   ]
  },
  {
   "cell_type": "code",
   "execution_count": 57,
   "metadata": {},
   "outputs": [
    {
     "name": "stdout",
     "output_type": "stream",
     "text": [
      "0\n",
      "54\n"
     ]
    }
   ],
   "source": [
    "time_start = date2index(dt.datetime(2002, 1, 1), SIT_time, select=\"nearest\")\n",
    "time_end = date2index(dt.datetime(2011, 12, 31), SIT_time, select=\"nearest\")\n",
    "\n",
    "print(time_start)\n",
    "print(time_end)"
   ]
  },
  {
   "cell_type": "code",
   "execution_count": 58,
   "metadata": {},
   "outputs": [
    {
     "name": "stdout",
     "output_type": "stream",
     "text": [
      "2011-10-15 00:00:00\n"
     ]
    }
   ],
   "source": [
    "print(num2date(SIT_time[time_end], units=SIT_time.units, calendar=SIT_time.calendar))"
   ]
  },
  {
   "cell_type": "code",
   "execution_count": 59,
   "metadata": {},
   "outputs": [],
   "source": [
    "dates_SIT=num2date(SIT_time[:],SIT_time.units)\n",
    "time_SIT=([date.strftime('%Y-%m-%d') for date in dates_SIT[:]])"
   ]
  },
  {
   "cell_type": "code",
   "execution_count": 60,
   "metadata": {},
   "outputs": [
    {
     "name": "stdout",
     "output_type": "stream",
     "text": [
      "['2002-05-01', '2002-06-01', '2002-07-01', '2002-08-01', '2002-09-01', '2002-10-01', '2003-05-01', '2003-06-01', '2003-07-01', '2003-08-01', '2003-09-01', '2003-10-01', '2004-05-01', '2004-06-01', '2004-07-01', '2004-08-01', '2004-09-01', '2004-10-01', '2005-05-01', '2005-06-01', '2005-07-01', '2005-08-01', '2005-09-01', '2005-10-01', '2006-05-01', '2006-06-01', '2006-07-01', '2006-08-01', '2006-09-01', '2006-10-01', '2007-05-01', '2007-06-01', '2007-07-01', '2007-08-01', '2007-09-01', '2007-10-01', '2008-05-01', '2008-06-01', '2008-07-01', '2008-08-01', '2008-09-01', '2008-10-01', '2009-05-01', '2009-06-01', '2009-07-01', '2009-08-01', '2009-09-01', '2009-10-01', '2010-05-01', '2010-06-01', '2010-07-01', '2010-08-01', '2010-09-01', '2010-10-01', '2011-05-01', '2011-06-01', '2011-07-01', '2011-08-01', '2011-09-01', '2011-10-01']\n"
     ]
    }
   ],
   "source": [
    "print(time_T[:])"
   ]
  },
  {
   "cell_type": "markdown",
   "metadata": {},
   "source": [
    "## Indexing to attain desired lat and lon for Surface Temperature to align with the Sea Ice Thickness Area "
   ]
  },
  {
   "cell_type": "code",
   "execution_count": 61,
   "metadata": {},
   "outputs": [],
   "source": [
    "# Slicing the 'z' axis, to only get the mean surface temp at 850 hPa where most convergence occurs\n",
    "air_temp_at_surf=(air[:,2,:,:])\n",
    "print(air_temp_at_surf)"
   ]
  },
  {
   "cell_type": "code",
   "execution_count": 62,
   "metadata": {},
   "outputs": [
    {
     "name": "stdout",
     "output_type": "stream",
     "text": [
      "(array([47]),)\n",
      "(array([36]),)\n"
     ]
    }
   ],
   "source": [
    "#Finding index value of certain longitudes\n",
    "print(np.where(lon_t==-62.5))\n",
    "print(np.where(lon_t==-90))\n",
    "\n",
    "air_temp_at_surf.shape\n",
    "\n",
    "#Indexing to only get the Antarctic Circle\n",
    "antcircle=air_temp_at_surf[:,36:47,:]"
   ]
  },
  {
   "cell_type": "markdown",
   "metadata": {},
   "source": [
    "## Closing the nc files, now that we have assigned all variables \n",
    "#### Data written to a netCDF file is cached in memory, for better performance. This data is only written out to disk when the file is closed. Therefore, always remember to close a netCDF file when done with it."
   ]
  },
  {
   "cell_type": "code",
   "execution_count": 63,
   "metadata": {},
   "outputs": [],
   "source": [
    "tmp_data.close()"
   ]
  },
  {
   "cell_type": "code",
   "execution_count": 64,
   "metadata": {},
   "outputs": [],
   "source": [
    "sea_data.close()"
   ]
  },
  {
   "cell_type": "markdown",
   "metadata": {},
   "source": [
    "## Plotting and Functions"
   ]
  },
  {
   "cell_type": "code",
   "execution_count": 65,
   "metadata": {},
   "outputs": [],
   "source": [
    "temp_mean=[]\n",
    "for ii in range(len(antcircle)):\n",
    "    mean = np.mean(antcircle[ii,:,:])\n",
    "    temp_mean.append(mean)"
   ]
  },
  {
   "cell_type": "code",
   "execution_count": 66,
   "metadata": {},
   "outputs": [
    {
     "data": {
      "image/png": "[encoded data removed]",
      "text/plain": [
       "<Figure size 432x288 with 1 Axes>"
      ]
     },
     "metadata": {
      "needs_background": "light"
     },
     "output_type": "display_data"
    }
   ],
   "source": [
    "ave_plot = plt.plot(temp_mean)\n",
    "plt.xlabel('Timesteps')\n",
    "plt.ylabel('Temperature degC')\n",
    "plt.title('Surface Temp 2001-2011: Antarctic Circle')\n",
    "plt.show()"
   ]
  },
  {
   "cell_type": "code",
   "execution_count": null,
   "metadata": {},
   "outputs": [],
   "source": [
    "#mask_months = periods.month==9\n",
    "#d=air[mask_months,:,:]\n",
    "#plt_map(d)"
   ]
  },
  {
   "cell_type": "code",
   "execution_count": 30,
   "metadata": {},
   "outputs": [
    {
     "data": {
      "image/png": "[encoded data removed]",
      "text/plain": [
       "<Figure size 432x288 with 1 Axes>"
      ]
     },
     "metadata": {
      "needs_background": "light"
     },
     "output_type": "display_data"
    }
   ],
   "source": [
    "mask_months = periods.month== 9\n",
    "plt.plot(mask_months)\n",
    "plt.xlabel('Timesteps')\n",
    "plt.ylabel('Temperature degC')\n",
    "plt.title('Surface Temp 2001-2011: September')\n",
    "plt.show()"
   ]
  }
 ],
 "metadata": {
  "kernelspec": {
   "display_name": "Python 3",
   "language": "python",
   "name": "python3"
  },
  "language_info": {
   "codemirror_mode": {
    "name": "ipython",
    "version": 3
   },
   "file_extension": ".py",
   "mimetype": "text/x-python",
   "name": "python",
   "nbconvert_exporter": "python",
   "pygments_lexer": "ipython3",
   "version": "3.7.4"
  }
 },
 "nbformat": 4,
 "nbformat_minor": 4
}
