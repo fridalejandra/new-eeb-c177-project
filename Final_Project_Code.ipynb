{
 "cells": [
  {
   "cell_type": "markdown",
   "metadata": {},
   "source": [
    "### Import Packages "
   ]
  },
  {
   "cell_type": "code",
   "execution_count": 1,
   "metadata": {},
   "outputs": [],
   "source": [
    "import numpy as np\n",
    "import matplotlib.pyplot as plt\n",
    "%matplotlib inline\n",
    "import xarray as xr\n",
    "import seaborn as sns; sns.set(color_codes=True)\n",
    "import pandas as pd\n",
    "import netCDF4 as nc\n",
    "from mpl_toolkits.basemap import Basemap\n",
    "import csv"
   ]
  },
  {
   "cell_type": "code",
   "execution_count": 19,
   "metadata": {},
   "outputs": [],
   "source": [
    "# Opening files with xarray\n",
    "\n",
    "#Sea Ice Thickness \n",
    "sit_file = '/Users/fridaperez/Developer/repos/eeb-c177-project/sit.nc'  # prepping path for xr\n",
    "sit_nc = nc.Dataset(\"envisat_SIT_fb_snow-AMSR_sh_2002_2011_ease2_w50000.nc\") #reading SIT from nc \n",
    "data = xr.open_dataset(sit_file) # opening for xarray \n",
    "\n",
    "\n",
    "#Air Surface Temperature\n",
    "tmp_file = '/Users/fridaperez/Developer/repos/eeb-c177-project/air.nc'\n",
    "tmp_nc = nc.Dataset(\"air.mon.mean__M-O_2002-2011.nc\")\n",
    "data_air = xr.open_dataset(tmp_file)\n",
    "\n",
    "#print(data)\n",
    "#print(data_air)"
   ]
  },
  {
   "cell_type": "code",
   "execution_count": 3,
   "metadata": {},
   "outputs": [],
   "source": [
    "#Opening files with NetCDF4\n",
    "\n",
    "#reading in sit variables\n",
    "time = sit_nc.variables['time'][:]\n",
    "lat=sit_nc.variables['latitude'][:]\n",
    "lon=sit_nc.variables['longitude'][:]\n",
    "sit=sit_nc.variables['SIT'][:]\n",
    "\n",
    "#reading in temp variables\n",
    "lon_t = tmp_nc.variables[\"lon\"][:]\n",
    "lat_t = tmp_nc.variables[\"lat\"][:]\n",
    "level = tmp_nc.variables[\"level\"][:]\n",
    "air = tmp_nc.variables[\"air\"][:]\n",
    "tmp_time = tmp_nc.variables[\"time\"]"
   ]
  },
  {
   "cell_type": "code",
   "execution_count": 22,
   "metadata": {},
   "outputs": [],
   "source": [
    "#Using pandas to manipulate time for temperature dataset \n",
    "import datetime as dt\n",
    "from netCDF4 import Dataset, date2index, num2date, date2num\n",
    "\n",
    "dates_T=num2date(tmp_time[5:60],tmp_time.units)\n",
    "dates_pd = pd.to_datetime(dates_T)\n",
    "#print(dates_pd)"
   ]
  },
  {
   "cell_type": "code",
   "execution_count": 21,
   "metadata": {},
   "outputs": [],
   "source": [
    "#Using pandas to manipulate time for SIT dataset \n",
    "\n",
    "time= data.time\n",
    "time = pd.to_datetime(time.data)\n",
    "#print(time)"
   ]
  },
  {
   "cell_type": "markdown",
   "metadata": {},
   "source": [
    " ## 1. For the SLR plot in 'R', we first subset the latitude and longitudinal area for Antarctica at the surface level "
   ]
  },
  {
   "cell_type": "code",
   "execution_count": 28,
   "metadata": {},
   "outputs": [
    {
     "name": "stdout",
     "output_type": "stream",
     "text": [
      "(array([60]),)\n",
      "(array([72]),)\n"
     ]
    }
   ],
   "source": [
    "# Slicing the 'z' axis, to only get the mean surface temp at 850 hPa where most convergence occurs\n",
    "air_temp_at_surf=(air[:,2,:,:])\n",
    "#print(air_temp_at_surf)\n",
    "#Finding index value of certain longitudes\n",
    "print(np.where(lat_t==-60))\n",
    "print(np.where(lat_t==-90))\n",
    "#air_temp_at_surf.shape\n",
    "#Indexing to only get the Antarctic Circle\n",
    "antcircle=air_temp_at_surf[5:60,60:72,:]\n",
    "#print(antcircle)"
   ]
  },
  {
   "cell_type": "markdown",
   "metadata": {},
   "source": [
    "## 2. Getting averages for surface temperature and sea ice thickness"
   ]
  },
  {
   "cell_type": "code",
   "execution_count": 8,
   "metadata": {},
   "outputs": [
    {
     "name": "stderr",
     "output_type": "stream",
     "text": [
      "/Users/fridaperez/miniconda3/lib/python3.7/site-packages/ipykernel_launcher.py:4: RuntimeWarning: Mean of empty slice\n",
      "  after removing the cwd from sys.path.\n"
     ]
    }
   ],
   "source": [
    "#means for sit \n",
    "sit_mean=[]\n",
    "for y in range(len(data.SIT)):\n",
    "    mean = np.nanmean(data.SIT[y]) #avoids missing values through space \n",
    "    sit_mean.append(mean)"
   ]
  },
  {
   "cell_type": "code",
   "execution_count": 9,
   "metadata": {},
   "outputs": [],
   "source": [
    "#means for temperature \n",
    "ant_mean=[]\n",
    "for i in range(len(antcircle)):\n",
    "    mean = np.mean(antcircle[i])\n",
    "    ant_mean.append(mean)"
   ]
  },
  {
   "cell_type": "markdown",
   "metadata": {},
   "source": [
    "## 3. R code: Using ggplot2"
   ]
  },
  {
   "cell_type": "markdown",
   "metadata": {},
   "source": [
    "### Plot 1 "
   ]
  },
  {
   "cell_type": "code",
   "execution_count": null,
   "metadata": {},
   "outputs": [],
   "source": [
    "#Reading in CSV for temperature and sit\n",
    "sit_data<- read.csv(\"/Users/fridaperez/Desktop/sit_mean.csv\")\n",
    "tmp_data<-read.csv(\"/Users/fridaperez/Desktop/ant_mean_new.csv\")"
   ]
  },
  {
   "cell_type": "code",
   "execution_count": null,
   "metadata": {},
   "outputs": [],
   "source": [
    "# Creating a simple linear regression for SIT and temperature \n",
    "dd <- data.frame(sit_data=unlist(sit_data),tmp_data=unlist(tmp_data))\n",
    "lmmodelsit<- lm(tmp_data~sit_data,dd) \n",
    "summary(lmmodelsit)"
   ]
  },
  {
   "cell_type": "code",
   "execution_count": 24,
   "metadata": {},
   "outputs": [],
   "source": [
    "# Stating formula \n",
    "sit<-unlist(sit_data)\n",
    "tmp<-unlist(tmp_data)\n",
    "lm(formula = tmp~sit)"
   ]
  },
  {
   "cell_type": "code",
   "execution_count": 27,
   "metadata": {},
   "outputs": [],
   "source": [
    "#Plotting and fitting the model \n",
    "p1 <- ggplot(lmmodelsit,aes(x=sit, y=tmp)) + geom_point(shape=1) + #assigning lm to \"p1\" geom_smooth(method=lm)\n",
    "# Adding X and Y axis labels and a title to \"p2\", a new plot\n",
    "p2 <- p1 + scale_x_continuous(name = \"Sea Ice Thickness (in m)\") +\n",
    "    scale_y_continuous(name = \"Surface Temperature (in F°)\") + ggtitle(\"Surface Temperature Regression Line\") \n",
    "#Adding the R-sqaured, alpha, and beta to the plot\n",
    "p3<- p2+ annotate(\"text\", x=1.45, y=-20.0, label = \"R^2 == 0.69\", parse=T) +\n",
    "      annotate(\"text\", x=1.45, y=-20.45, label = \"alpha == 0.00\", parse=T) +\n",
    "      annotate(\"text\", x=1.45, y=-20.90, label = \"beta ==  -9.56\", parse=T)\n",
    "p3 #final plot"
   ]
  },
  {
   "cell_type": "markdown",
   "metadata": {},
   "source": [
    "### Plot 2"
   ]
  },
  {
   "cell_type": "code",
   "execution_count": null,
   "metadata": {},
   "outputs": [],
   "source": [
    "#To test if the SLR is a good fit and further evaluate the results of the linear regression we run the \"autoplot\" command in R, which allows us to analyze the residuals.\n",
    "plt4<- autoplot(lmmodelsit,label.n = 0) \n",
    "plt4"
   ]
  },
  {
   "cell_type": "markdown",
   "metadata": {},
   "source": [
    "### Plot 3"
   ]
  },
  {
   "cell_type": "code",
   "execution_count": null,
   "metadata": {},
   "outputs": [],
   "source": [
    "#Reading in csv that contains SIT averages over time\n",
    "sit_year<-read.csv(\"/Users/fridaperez/Desktop/sit_may_oct.csv\")\n",
    "sit_year<-as.data.frame(sit_year) #converting to data frame\n",
    "print(sit_year)"
   ]
  },
  {
   "cell_type": "code",
   "execution_count": 30,
   "metadata": {},
   "outputs": [],
   "source": [
    "#plotting with ggplot2\n",
    "ggplot(sit_year) +geom_line(aes(x=sit_year$months,y=sit_year$X2003,color=\"2003\"))+\n",
    "geom_line(aes(x=sit_year$months,y=sit_year$X2004,color=\"2004\"))+\n",
    "geom_line(aes(x=sit_year$months,y=sit_year$X2005,color=\"2005\"))+\n",
    "geom_line(aes(x=sit_year$months,y=sit_year$X2006,color=\"2006\"))+\n",
    "geom_line(aes(x=sit_year$months,y=sit_year$X2007,color=\"2007\"))+\n",
    "geom_line(aes(x=sit_year$months,y=sit_year$X2008,color=\"2008\"))+\n",
    "geom_line(aes(x=sit_year$months,y=sit_year$X2009,color=\"2009\"))+\n",
    "geom_line(aes(x=sit_year$months, y=sit_year$X2010,color=\"2010\"))+\n",
    "geom_line(aes(x=sit_year$months,y=sit_year$X2011,color=\"2011\"))+ \n",
    "ggtitle(\"Sea Ice Thickness\") + scale_x_continuous(name = \"May-October\")+ \n",
    "scale_y_continuous(name = \"Sea Ice Thickness (in m)\")+\n",
    "scale_colour_manual(name=\"Years\",\n",
    "            breaks = c(\"2003\", \"2004\", \"2005\",\"2006\", \"2007\",\"2008\",\"2009\", \"2010\", \"2011\"),\n",
    "            values = c(\"2003\"= \"red\", \"2004\"=\"darkolivegreen1\", \"2005\"=\"blue\", \"2006\"=\"yellow\",\n",
    "                       \"2007\"=\"purple\",\"2008\"=\"limegreen\", \"2009\"=\"grey4\",\"2010\"=\"indianred1\",\"2011\"=\"steelblue\")) \n",
    "            "
   ]
  }
 ],
 "metadata": {
  "kernelspec": {
   "display_name": "Python 3",
   "language": "python",
   "name": "python3"
  },
  "language_info": {
   "codemirror_mode": {
    "name": "ipython",
    "version": 3
   },
   "file_extension": ".py",
   "mimetype": "text/x-python",
   "name": "python",
   "nbconvert_exporter": "python",
   "pygments_lexer": "ipython3",
   "version": "3.7.4"
  }
 },
 "nbformat": 4,
 "nbformat_minor": 4
}
